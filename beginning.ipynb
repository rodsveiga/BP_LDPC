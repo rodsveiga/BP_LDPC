{
 "cells": [
  {
   "cell_type": "markdown",
   "metadata": {},
   "source": [
    "# Beginning\n",
    "\n",
    "Fow now it is almost just a copy/paste from https://github.com/bradleyemi/coupled-ldpc/blob/master/ldpc.py"
   ]
  },
  {
   "cell_type": "code",
   "execution_count": 14,
   "metadata": {},
   "outputs": [],
   "source": [
    "import numpy as np\n",
    "import matplotlib.pyplot as plt\n",
    "import random\n",
    "import pickle\n",
    "import scipy.io"
   ]
  },
  {
   "cell_type": "markdown",
   "metadata": {},
   "source": [
    "Let's load two specific generator and parity check matrices ${\\cal H}$, ${\\cal G}$, respectively."
   ]
  },
  {
   "cell_type": "code",
   "execution_count": 15,
   "metadata": {},
   "outputs": [],
   "source": [
    "def loadLDPC(name):\n",
    "    \"\"\"\n",
    "    :param - name: the name of the file containing LDPC matrices\n",
    "  \n",
    "    return values:\n",
    "    G: generator matrix\n",
    "    H: parity check matrix\n",
    "    \"\"\"\n",
    "    A = scipy.io.loadmat(name)\n",
    "    G = A['G']\n",
    "    H = A['H']\n",
    "    return G, H"
   ]
  },
  {
   "cell_type": "code",
   "execution_count": 16,
   "metadata": {},
   "outputs": [],
   "source": [
    "G, H = loadLDPC('codes/ldpc36-128.mat')"
   ]
  },
  {
   "cell_type": "code",
   "execution_count": 20,
   "metadata": {},
   "outputs": [
    {
     "name": "stdout",
     "output_type": "stream",
     "text": [
      "[[1 0 0 ... 0 0 0]\n",
      " [0 1 0 ... 0 0 0]\n",
      " [0 0 1 ... 0 0 0]\n",
      " ...\n",
      " [0 1 0 ... 0 0 0]\n",
      " [1 0 1 ... 1 0 0]\n",
      " [1 1 0 ... 1 1 1]]\n",
      "(256, 128)\n"
     ]
    }
   ],
   "source": [
    "print(G)\n",
    "print(G.shape)"
   ]
  },
  {
   "cell_type": "code",
   "execution_count": 24,
   "metadata": {},
   "outputs": [
    {
     "name": "stdout",
     "output_type": "stream",
     "text": [
      "[[0 0 0 ... 0 0 0]\n",
      " [0 0 0 ... 0 0 0]\n",
      " [0 0 0 ... 0 0 0]\n",
      " ...\n",
      " [0 0 0 ... 0 0 0]\n",
      " [0 0 0 ... 0 0 0]\n",
      " [0 0 0 ... 1 0 0]]\n",
      "(128, 256)\n"
     ]
    }
   ],
   "source": [
    "print(H)\n",
    "print(H.shape)"
   ]
  },
  {
   "cell_type": "markdown",
   "metadata": {},
   "source": [
    "Defining a factor."
   ]
  },
  {
   "cell_type": "code",
   "execution_count": 26,
   "metadata": {},
   "outputs": [],
   "source": [
    "class Factor(object):\n",
    "    def __init__(self, node_type, id_, neighbors):\n",
    "        self.node_type = node_type\n",
    "        self.id = id_\n",
    "        self.neighbors = neighbors"
   ]
  },
  {
   "cell_type": "markdown",
   "metadata": {},
   "source": [
    "A class `Graph` to hold the factor graph structure of H and initialize messages."
   ]
  },
  {
   "cell_type": "code",
   "execution_count": 32,
   "metadata": {},
   "outputs": [],
   "source": [
    "class Graph(object):\n",
    "    def __init__(self, H):\n",
    "        self.H = H\n",
    "\n",
    "        self.n_vars = H.shape[1]\n",
    "        self.n_checks = H.shape[0]\n",
    "\n",
    "        self.vars = []\n",
    "        self.checks = []\n",
    "\n",
    "        for i in range(self.n_vars):\n",
    "            print('Constructing variable factor', i)\n",
    "            \n",
    "            # Given the i-th variable, collect all its variables 'neighbours'.\n",
    "            neighbors = np.nonzero(H[:,i])\n",
    "            \n",
    "            # But the graph is iteratively constructed using only the n.n.\n",
    "            self.vars.append(Factor('var', i, neighbors[0]))\n",
    "\n",
    "        for i in range(self.n_checks):\n",
    "            print('Constructing check factor', i)\n",
    "            \n",
    "            # Given the i-th factor, we collect all its factor 'neighbours'.\n",
    "            neighbors = np.nonzero(H[i,:])\n",
    "            # But the graph is iteratively constructed using only the n.n.\n",
    "            self.checks.append(Factor('check', i, neighbors[0]))"
   ]
  },
  {
   "cell_type": "markdown",
   "metadata": {},
   "source": [
    "A class `ClusterGraph` to hold the factor graph structure of H and initialize messages."
   ]
  },
  {
   "cell_type": "code",
   "execution_count": 37,
   "metadata": {},
   "outputs": [],
   "source": [
    "class ClusterGraph(object):\n",
    "    def __init__(self, graph, codeword):\n",
    "        \n",
    "        self.graph = graph\n",
    "        self.orig_codeword = codeword\n",
    "        self.decoded_codeword = copy(codeword)\n",
    "\n",
    "        self.var_to_check_msgs = {}\n",
    "        self.check_to_var_msgs = {}\n",
    "\n",
    "        for var in self.graph.vars:\n",
    "            for neighbor in var.neighbors:\n",
    "                self.var_to_check_msgs[(var.id_, neighbor)] = -1 #Message(\"var_to_check\", -1)\n",
    "\n",
    "        for check in self.graph.checks:\n",
    "            for neighbor in check.neighbors:\n",
    "                self.check_to_var_msgs[(check.id_, neighbor)] = -1 #Message(\"check_to_var\", -1)\n",
    "\n",
    "    def decode(self, iterations, yield_errors=False):\n",
    "        \n",
    "        errors = len([c for c in self.decoded_codeword if c == -1])\n",
    "        \n",
    "        print(\"decoding for error probability\", float(errors) / self.graph.n_vars()\n",
    "              \n",
    "        for iteration in xrange(iterations):\n",
    "              \n",
    "            # First iterate over var -> check messages\n",
    "            for source_dest, msg in self.var_to_check_msgs.iteritems():\n",
    "              \n",
    "                source = source_dest[0]\n",
    "                dest = source_dest[1]\n",
    "                source_neighbors = self.graph.vars[source].neighbors\n",
    "              \n",
    "                in_msgs = [self.check_to_var_msgs[(neigh, source)] for neigh in source_neighbors if neigh != dest]\n",
    "              \n",
    "                # If any incoming message from a check is not -1, we know the variable must be equal to the message value\n",
    "                # so we can pass it forward and decode the variable bit\n",
    "                for in_msg in in_msgs:\n",
    "                    if in_msg != -1:\n",
    "                        self.var_to_check_msgs[source_dest] = in_msg\n",
    "                        self.decoded_codeword[source] = msg\n",
    "                        break\n",
    "              \n",
    "                if self.decoded_codeword[source] != -1:\n",
    "                    self.var_to_check_msgs[source_dest] = self.decoded_codeword[source]\n",
    "            \n",
    "            # Now iterate over check -> var messages\n",
    "            for source_dest, msg in self.check_to_var_msgs.iteritems():\n",
    "              \n",
    "                source = source_dest[0]\n",
    "                dest = source_dest[1]\n",
    "                source_neighbors = self.graph.checks[source].neighbors\n",
    "              \n",
    "                in_msgs = [self.var_to_check_msgs[(neigh, source)] for neigh in source_neighbors if neigh != dest]\n",
    "              \n",
    "                # A check must have all incoming messages non-erased to be certain of the value of the destination\n",
    "                # so -1 cannot be in the incoming messages. \n",
    "                # If all incoming messages are known, pass value that makes parity check = 0 (mod 2) and decode bit\n",
    "                \n",
    "              if -1 not in in_msgs:\n",
    "                    self.check_to_var_msgs[source_dest] = sum(in_msgs) % 2\n",
    "                    self.decoded_codeword[dest] = sum(in_msgs) % 2\n",
    "            new_errors = len([c for c in self.decoded_codeword if c == -1])\n",
    "              \n",
    "            if yield_errors:\n",
    "                yield self.decoded_codeword\n",
    "            if (new_errors == errors) or (new_errors == 0):\n",
    "                break\n",
    "            else:\n",
    "                errors = new_errors\n",
    "        #return float(errors) / self.graph.H.shape[1]\n"
   ]
  },
  {
   "cell_type": "code",
   "execution_count": null,
   "metadata": {},
   "outputs": [],
   "source": []
  }
 ],
 "metadata": {
  "kernelspec": {
   "display_name": "Python 3",
   "language": "python",
   "name": "python3"
  },
  "language_info": {
   "codemirror_mode": {
    "name": "ipython",
    "version": 3
   },
   "file_extension": ".py",
   "mimetype": "text/x-python",
   "name": "python",
   "nbconvert_exporter": "python",
   "pygments_lexer": "ipython3",
   "version": "3.7.3"
  }
 },
 "nbformat": 4,
 "nbformat_minor": 2
}
